{
 "cells": [
  {
   "cell_type": "code",
   "execution_count": 1,
   "metadata": {},
   "outputs": [],
   "source": [
    "%matplotlib inline\n",
    "import os\n",
    "import pandas as pd\n",
    "import numpy as np\n",
    "from IPython.display import Image as IMG\n",
    "import cv2\n",
    "from glob import glob"
   ]
  },
  {
   "cell_type": "markdown",
   "metadata": {},
   "source": [
    "# Understanding the Amazon from Space"
   ]
  },
  {
   "cell_type": "code",
   "execution_count": 2,
   "metadata": {},
   "outputs": [],
   "source": [
    "# Another example of remote sensing data: https://www.kaggle.com/c/planet-understanding-the-amazon-from-space/data\n",
    "# This multiclass labeling challenge requires contestants to maximize mean F2 score in identifying land cover in\n",
    "# the Amazon rainforest basin to monitor deforestation."
   ]
  },
  {
   "cell_type": "code",
   "execution_count": 3,
   "metadata": {},
   "outputs": [
    {
     "data": {
      "text/html": [
       "<img src=\"https://kaggle2.blob.core.windows.net/competitions/kaggle/6322/media/chips.jpg\"/>"
      ],
      "text/plain": [
       "<IPython.core.display.Image object>"
      ]
     },
     "execution_count": 3,
     "metadata": {},
     "output_type": "execute_result"
    }
   ],
   "source": [
    "IMG(url='https://kaggle2.blob.core.windows.net/competitions/kaggle/6322/media/chips.jpg')"
   ]
  },
  {
   "cell_type": "code",
   "execution_count": 4,
   "metadata": {
    "collapsed": true
   },
   "outputs": [],
   "source": [
    "DATA_DIR = '../data/'\n",
    "# extract files like: 7z x -so train-jpg.tar.7z | tar xf - -C ./"
   ]
  },
  {
   "cell_type": "code",
   "execution_count": 5,
   "metadata": {
    "collapsed": true
   },
   "outputs": [],
   "source": [
    "# jpg and tif images..."
   ]
  },
  {
   "cell_type": "code",
   "execution_count": 6,
   "metadata": {},
   "outputs": [
    {
     "data": {
      "text/plain": [
       "['train_30597.jpg',\n",
       " 'train_21957.jpg',\n",
       " 'train_28345.jpg',\n",
       " 'train_38348.jpg',\n",
       " 'train_35258.jpg',\n",
       " 'train_31405.jpg',\n",
       " 'train_23572.jpg',\n",
       " 'train_12556.jpg',\n",
       " 'train_26691.jpg',\n",
       " 'train_20155.jpg']"
      ]
     },
     "execution_count": 6,
     "metadata": {},
     "output_type": "execute_result"
    }
   ],
   "source": [
    "os.listdir(DATA_DIR + 'train-jpg/')[:10]"
   ]
  },
  {
   "cell_type": "code",
   "execution_count": 7,
   "metadata": {},
   "outputs": [
    {
     "data": {
      "text/plain": [
       "['train_23797.tif',\n",
       " 'train_12223.tif',\n",
       " 'train_11039.tif',\n",
       " 'train_26625.tif',\n",
       " 'train_34979.tif',\n",
       " 'train_4772.tif',\n",
       " 'train_253.tif',\n",
       " 'train_16279.tif',\n",
       " 'train_16778.tif',\n",
       " 'train_28537.tif']"
      ]
     },
     "execution_count": 7,
     "metadata": {},
     "output_type": "execute_result"
    }
   ],
   "source": [
    "os.listdir(DATA_DIR + 'train-tif-v2/')[:10]"
   ]
  },
  {
   "cell_type": "code",
   "execution_count": 8,
   "metadata": {
    "collapsed": true
   },
   "outputs": [],
   "source": [
    "# The most easily discernible images might include cloudy/hazy images as well as agriculture/habitation\n",
    "# These images offer globablly distinct coloration.\n",
    "# With the ability to characterize fine detail, rivers, roads, and clouds should be more easily distinguised."
   ]
  },
  {
   "cell_type": "markdown",
   "metadata": {},
   "source": [
    "## Simple Idea: Color Histograms"
   ]
  },
  {
   "cell_type": "code",
   "execution_count": 9,
   "metadata": {
    "collapsed": true
   },
   "outputs": [],
   "source": [
    "# Color histograms can be used to group images with similar global color distribution\n",
    "# https://docs.opencv.org/3.1.0/d1/db7/tutorial_py_histogram_begins.html"
   ]
  },
  {
   "cell_type": "code",
   "execution_count": 10,
   "metadata": {
    "collapsed": true
   },
   "outputs": [],
   "source": [
    "def img_hist(img):\n",
    "    chans = cv2.split(img)\n",
    "    colors = (\"b\", \"g\", \"r\")\n",
    "    features = []\n",
    "    for (chan, color) in zip(chans, colors):\n",
    "        hist = cv2.calcHist([chan],[0],None,[16],[0, 256]).flatten()\n",
    "        hist /= hist.sum()\n",
    "        features.extend(hist)\n",
    "    return features"
   ]
  },
  {
   "cell_type": "code",
   "execution_count": 11,
   "metadata": {},
   "outputs": [
    {
     "name": "stdout",
     "output_type": "stream",
     "text": [
      "[0.0, 0.00016784668, 0.27668762, 0.70982361, 0.0131073, 0.00021362305, 0.0, 0.0, 0.0, 0.0, 0.0, 0.0, 0.0, 0.0, 0.0, 0.0, 0.0, 6.1035156e-05, 0.089324951, 0.81755066, 0.092285156, 0.00077819824, 0.0, 0.0, 0.0, 0.0, 0.0, 0.0, 0.0, 0.0, 0.0, 0.0, 0.00033569336, 0.15682983, 0.7628479, 0.077011108, 0.0029144287, 6.1035156e-05, 0.0, 0.0, 0.0, 0.0, 0.0, 0.0, 0.0, 0.0, 0.0, 0.0]\n"
     ]
    }
   ],
   "source": [
    "img = cv2.imread(DATA_DIR + 'train-jpg/train_30597.jpg', 1)\n",
    "print(img_hist(img))"
   ]
  },
  {
   "cell_type": "code",
   "execution_count": 12,
   "metadata": {
    "collapsed": true
   },
   "outputs": [],
   "source": [
    "# With this vector representation for the image, we can choose a similarity metric and simple\n",
    "# rules like K-Nearest Neighbors to label new image instances. Note the number of bins introduces\n",
    "# a tunable parameter. We can even choose different levels of resolution to improve performance"
   ]
  },
  {
   "cell_type": "code",
   "execution_count": 13,
   "metadata": {},
   "outputs": [
    {
     "data": {
      "image/jpeg": "[encoded data removed]",
      "text/plain": [
       "<IPython.core.display.Image object>"
      ]
     },
     "execution_count": 13,
     "metadata": {},
     "output_type": "execute_result"
    }
   ],
   "source": [
    "IMG(filename=DATA_DIR + 'train-jpg/train_30597.jpg')"
   ]
  },
  {
   "cell_type": "code",
   "execution_count": 14,
   "metadata": {},
   "outputs": [],
   "source": [
    "hist_dict = dict()\n",
    "for img_pth in glob(DATA_DIR + 'train-jpg/*'):\n",
    "    img = cv2.imread(img_pth, 1)\n",
    "    hist_dict[img_pth] = img_hist(img)"
   ]
  },
  {
   "cell_type": "code",
   "execution_count": 15,
   "metadata": {
    "collapsed": true
   },
   "outputs": [],
   "source": [
    "# With a dictionary or array, we can compute the dot product of image feature vectors\n",
    "# Then we can label new instances with the label of the 'nearest' training instance"
   ]
  },
  {
   "cell_type": "markdown",
   "metadata": {},
   "source": [
    "## Model Assumptions\n",
    "* Assumes similar color distn conveys semantic similarity"
   ]
  },
  {
   "cell_type": "markdown",
   "metadata": {},
   "source": [
    "## Further Directions\n",
    "* Learn fine patterns with neural nets"
   ]
  }
 ],
 "metadata": {
  "kernelspec": {
   "display_name": "Python 3",
   "language": "python",
   "name": "python3"
  },
  "language_info": {
   "codemirror_mode": {
    "name": "ipython",
    "version": 3
   },
   "file_extension": ".py",
   "mimetype": "text/x-python",
   "name": "python",
   "nbconvert_exporter": "python",
   "pygments_lexer": "ipython3",
   "version": "3.6.1"
  }
 },
 "nbformat": 4,
 "nbformat_minor": 2
}
